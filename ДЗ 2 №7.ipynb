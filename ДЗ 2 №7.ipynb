{
 "cells": [
  {
   "cell_type": "code",
   "execution_count": 1,
   "id": "fdcca1e8",
   "metadata": {},
   "outputs": [],
   "source": [
    "import matplotlib.pyplot as plt\n",
    "%matplotlib inline"
   ]
  },
  {
   "cell_type": "code",
   "execution_count": 2,
   "id": "f1ae009a",
   "metadata": {},
   "outputs": [],
   "source": [
    "import networkx as nx"
   ]
  },
  {
   "cell_type": "code",
   "execution_count": 3,
   "id": "7f0d5367",
   "metadata": {},
   "outputs": [],
   "source": [
    "from random import choices\n",
    "a = 0.27\n",
    "n = 10000\n",
    "m = 5\n",
    "deg = []\n",
    "points = []\n",
    "weights = []\n",
    "G = nx.path_graph(n)"
   ]
  },
  {
   "cell_type": "code",
   "execution_count": 4,
   "id": "4210ca1d",
   "metadata": {},
   "outputs": [],
   "source": [
    "for i in range(m*n):\n",
    "    deg.append(0)\n",
    "    points.append(i)\n",
    "    weights.append(a)\n",
    "    t = choices(points, weights)[0]\n",
    "    deg[t] += 1\n",
    "    deg[i] += 1\n",
    "    weights[t] += 1\n",
    "    G.add_edge((i-1)//m , (t-1)//m )"
   ]
  },
  {
   "cell_type": "code",
   "execution_count": 5,
   "id": "cbd7447f",
   "metadata": {},
   "outputs": [
    {
     "name": "stdout",
     "output_type": "stream",
     "text": [
      "[2.91767447]\n"
     ]
    },
    {
     "data": {
      "image/png": "[encoded data removed]",
      "text/plain": [
       "<Figure size 432x288 with 1 Axes>"
      ]
     },
     "metadata": {
      "needs_background": "light"
     },
     "output_type": "display_data"
    }
   ],
   "source": [
    "import math\n",
    "from scipy.optimize import curve_fit\n",
    "def func(x, c):\n",
    "    return [n*c/math.pow(x_i, a+2) for x_i in x]\n",
    "from collections import defaultdict\n",
    "degrees = defaultdict(int)\n",
    "for v in G.nodes():\n",
    "    d = G.degree(v)\n",
    "    degrees[d] += 1\n",
    "xdata = sorted(degrees.keys())\n",
    "ydata = [degrees[d] for d in xdata]\n",
    "plt.loglog(xdata, ydata, ls='None', marker='.')\n",
    "popt, pcov = curve_fit(func, xdata, ydata)\n",
    "print(popt)\n",
    "plt.loglog(xdata, func(xdata, *popt))\n",
    "plt.show()"
   ]
  }
 ],
 "metadata": {
  "kernelspec": {
   "display_name": "Python 3 (ipykernel)",
   "language": "python",
   "name": "python3"
  },
  "language_info": {
   "codemirror_mode": {
    "name": "ipython",
    "version": 3
   },
   "file_extension": ".py",
   "mimetype": "text/x-python",
   "name": "python",
   "nbconvert_exporter": "python",
   "pygments_lexer": "ipython3",
   "version": "3.10.4"
  }
 },
 "nbformat": 4,
 "nbformat_minor": 5
}
